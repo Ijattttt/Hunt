{
  "nbformat": 4,
  "nbformat_minor": 0,
  "metadata": {
    "colab": {
      "provenance": [],
      "authorship_tag": "ABX9TyOf/oQ2VynAGgojLpwXoaCt",
      "include_colab_link": true
    },
    "kernelspec": {
      "name": "python3",
      "display_name": "Python 3"
    },
    "language_info": {
      "name": "python"
    }
  },
  "cells": [
    {
      "cell_type": "markdown",
      "metadata": {
        "id": "view-in-github",
        "colab_type": "text"
      },
      "source": [
        "<a href=\"https://colab.research.google.com/github/Ijattttt/Hunt/blob/main/Untitled16.ipynb\" target=\"_parent\"><img src=\"https://colab.research.google.com/assets/colab-badge.svg\" alt=\"Open In Colab\"/></a>"
      ]
    },
    {
      "cell_type": "code",
      "execution_count": null,
      "metadata": {
        "id": "q_zETJaXl5Od"
      },
      "outputs": [],
      "source": [
        "import tensorflow as tf\n",
        "\n",
        "import os, pathlib, warnings, urllib, shutil\n",
        "\n",
        "warnings.filterwarnings('ignore')"
      ]
    },
    {
      "cell_type": "code",
      "source": [
        "giturl = \"https://github.com/dicodingacademy/assets/releases/download/release/\"\n",
        "\n",
        "dataset = \"rockpaperscissors.zip\"\n",
        "\n",
        "urllib.request.urlretrieve(os.path.join(giturl, dataset), dataset)\n",
        "\n",
        "shutil.unpack_archive('rockpaperscissors.zip', '/content', 'zip')"
      ],
      "metadata": {
        "id": "EN0XRM8ummwe"
      },
      "execution_count": null,
      "outputs": []
    },
    {
      "cell_type": "code",
      "source": [
        "root = \"/content/rockpaperscissors/rps-cv-images\"\n",
        "\n",
        "!rm README_*\n",
        "\n",
        "os.listdir(root)"
      ],
      "metadata": {
        "colab": {
          "base_uri": "https://localhost:8080/"
        },
        "id": "Nt1tcBjen9k5",
        "outputId": "a1b92aca-27ca-4c9e-9554-95c280971c5e"
      },
      "execution_count": 3,
      "outputs": [
        {
          "output_type": "stream",
          "name": "stdout",
          "text": [
            "rm: cannot remove 'README_*': No such file or directory\n"
          ]
        },
        {
          "output_type": "execute_result",
          "data": {
            "text/plain": [
              "['paper', 'scissors', 'rock', 'README_rpc-cv-images.txt']"
            ]
          },
          "metadata": {},
          "execution_count": 3
        }
      ]
    },
    {
      "cell_type": "code",
      "source": [
        "print(\"Hallo World !\")"
      ],
      "metadata": {
        "colab": {
          "base_uri": "https://localhost:8080/"
        },
        "id": "pCcALHG8oTuB",
        "outputId": "114ec7d0-5e5a-4dde-92eb-b7963d6059c3"
      },
      "execution_count": 4,
      "outputs": [
        {
          "output_type": "stream",
          "name": "stdout",
          "text": [
            "Hallo World !\n"
          ]
        }
      ]
    }
  ]
}